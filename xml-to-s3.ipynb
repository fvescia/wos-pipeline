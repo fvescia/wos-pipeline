{
 "cells": [
  {
   "cell_type": "code",
   "execution_count": 1,
   "metadata": {},
   "outputs": [],
   "source": [
    "import boto3"
   ]
  },
  {
   "cell_type": "code",
   "execution_count": null,
   "metadata": {},
   "outputs": [],
   "source": [
    "# Create S3 bucket\n",
    "s3 = boto3.client('s3', region_name = 'us-east-1')\n",
    "bucket = s3.create_bucket(Bucket = 'wos')\n"
   ]
  },
  {
   "cell_type": "code",
   "execution_count": null,
   "metadata": {},
   "outputs": [],
   "source": [
    "# For now: Read XML from local system\n",
    "# TODO: Use Lambda func to scrape XML from lib website and write to S3\n",
    "xml = open(, 'rb')\n"
   ]
  },
  {
   "cell_type": "code",
   "execution_count": null,
   "metadata": {},
   "outputs": [],
   "source": [
    "# For now: Write XML to S3 bucket\n",
    "s3.Bucket('wos').put_object(\n",
    "                Key = None, # File name\n",
    "                Body = xml) # XML file"
   ]
  }
 ],
 "metadata": {
  "language_info": {
   "name": "python"
  }
 },
 "nbformat": 4,
 "nbformat_minor": 2
}
