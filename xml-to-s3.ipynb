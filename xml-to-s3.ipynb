{
 "cells": [
  {
   "cell_type": "code",
   "execution_count": 129,
   "metadata": {},
   "outputs": [],
   "source": [
    "import boto3\n",
    "import requests\n",
    "import lxml\n",
    "from bs4 import BeautifulSoup\n",
    "from requests.auth import HTTPBasicAuth \n",
    "from zipfile import ZipFile"
   ]
  },
  {
   "cell_type": "code",
   "execution_count": null,
   "metadata": {},
   "outputs": [],
   "source": [
    "# Create S3 bucket\n",
    "s3c = boto3.client('s3', region_name = 'us-east-1')\n",
    "bucket = s3c.create_bucket(Bucket = 'wos-xml')"
   ]
  },
  {
   "cell_type": "code",
   "execution_count": null,
   "metadata": {},
   "outputs": [],
   "source": [
    "# This works, so I know the issue with I'm having with the UChi files\n",
    "# is an authentication problem and not a ZIP file problem\n",
    "url = 'https://www.stats.govt.nz/assets/Uploads/Business-financial-data/Business-financial-data-December-2023-quarter/Download-data/business-financial-data-december-2023-quarter.zip'\n",
    "r = requests.get(url)\n",
    "with open('test.zip', 'wb') as f:\n",
    "    f.write(r.content)\n",
    "\n",
    "with ZipFile('test.zip', 'r') as f:\n",
    "    f.extractall()"
   ]
  },
  {
   "cell_type": "code",
   "execution_count": null,
   "metadata": {},
   "outputs": [],
   "source": [
    "# For now: Retrieve Schema_2023.zip with requests\n",
    "r = requests.get(url)\n",
    "with open('xml/Schema_2023', 'wb') as f:\n",
    "    f.write(r.content)"
   ]
  },
  {
   "cell_type": "code",
   "execution_count": 69,
   "metadata": {},
   "outputs": [],
   "source": [
    "# For now: Unzip Schema_2023.zip\n",
    "# This only works when I download the ZIP file manually\n",
    "# TODO: Unzip larger YYYY_CORE.zip files\n",
    "with ZipFile('xml/Schema_2023.zip', 'r') as f:\n",
    "    f.extractall()\n",
    "\n",
    "# FYI: This also works locally!\n",
    "# with ZipFile('xml/2023_CORE.zip', 'r') as f:\n",
    "    # f.extractall('xml/2023_CORE')"
   ]
  },
  {
   "cell_type": "code",
   "execution_count": null,
   "metadata": {},
   "outputs": [],
   "source": [
    "# For now: Read XML from local system\n",
    "# TODO: Scrape XML and write to S3 all from the cloud!\n",
    "xml = open('xml/2023_CORE/WR_2023_20240112181857_CORE_0001.xml.gz', 'rb')\n"
   ]
  },
  {
   "cell_type": "code",
   "execution_count": null,
   "metadata": {},
   "outputs": [],
   "source": [
    "# For now: Write zipped XML to S3 bucket\n",
    "s3r = boto3.resource('s3')\n",
    "s3r.Bucket('wos-xml').put_object(\n",
    "                Key = 'xml/2023_CORE/WR_2023_20240112181857_CORE_0001.xml.gz', # File name\n",
    "                Body = xml) # XML file"
   ]
  }
 ],
 "metadata": {
  "language_info": {
   "name": "python"
  }
 },
 "nbformat": 4,
 "nbformat_minor": 2
}
