{
 "cells": [
  {
   "cell_type": "code",
   "execution_count": 6,
   "metadata": {},
   "outputs": [],
   "source": [
    "import boto3\n",
    "from zipfile import ZipFile"
   ]
  },
  {
   "cell_type": "code",
   "execution_count": 2,
   "metadata": {},
   "outputs": [],
   "source": [
    "# Create S3 bucket\n",
    "s3c = boto3.client('s3', region_name = 'us-east-1')\n",
    "bucket = s3c.create_bucket(Bucket = 'wos-xml')\n"
   ]
  },
  {
   "cell_type": "code",
   "execution_count": 9,
   "metadata": {},
   "outputs": [],
   "source": [
    "# Test extractcall()\n",
    "with ZipFile('xml/Schema_2023.zip', 'r') as f:\n",
    "    f.extractall('xml/Schema_2023')"
   ]
  },
  {
   "cell_type": "code",
   "execution_count": 3,
   "metadata": {},
   "outputs": [],
   "source": [
    "# For now: Read XML from local system\n",
    "# TODO: Use Lambda func to scrape XML from lib website and write to S3\n",
    "xml = open('xml/2023_CORE/WR_2023_20240112181857_CORE_0001.xml.gz', 'rb')\n"
   ]
  },
  {
   "cell_type": "code",
   "execution_count": 4,
   "metadata": {},
   "outputs": [
    {
     "data": {
      "text/plain": [
       "s3.Object(bucket_name='wos-xml', key='xml/2023_CORE/WR_2023_20240112181857_CORE_0001.xml.gz')"
      ]
     },
     "execution_count": 4,
     "metadata": {},
     "output_type": "execute_result"
    }
   ],
   "source": [
    "# For now: Write zipped XML to S3 bucket\n",
    "s3r = boto3.resource('s3')\n",
    "s3r.Bucket('wos-xml').put_object(\n",
    "                Key = 'xml/2023_CORE/WR_2023_20240112181857_CORE_0001.xml.gz', # File name\n",
    "                Body = xml) # XML file"
   ]
  }
 ],
 "metadata": {
  "language_info": {
   "name": "python"
  }
 },
 "nbformat": 4,
 "nbformat_minor": 2
}
