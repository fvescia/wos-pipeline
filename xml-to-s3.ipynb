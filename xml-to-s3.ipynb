{
 "cells": [
  {
   "cell_type": "code",
   "execution_count": 1,
   "metadata": {},
   "outputs": [],
   "source": [
    "import boto3\n",
    "import gzip\n",
    "import requests\n",
    "import shutil\n",
    "import os\n",
    "from zipfile import ZipFile"
   ]
  },
  {
   "cell_type": "code",
   "execution_count": null,
   "metadata": {},
   "outputs": [],
   "source": [
    "# Test ZIP file download with unrestricted file\n",
    "# This works\n",
    "url = 'https://www.stats.govt.nz/assets/Uploads/Business-financial-data/Business-financial-data-December-2023-quarter/Download-data/business-financial-data-december-2023-quarter.zip'\n",
    "r = requests.get(url)\n",
    "with open('test.zip', 'wb') as f:\n",
    "    f.write(r.content)\n",
    "\n",
    "with ZipFile('test.zip', 'r') as f:\n",
    "    f.extractall()"
   ]
  },
  {
   "cell_type": "code",
   "execution_count": null,
   "metadata": {},
   "outputs": [],
   "source": [
    "# For now: Download restricted ZIP file manually\n",
    "# TODO: Figure out how to login and download restricted files programmatically "
   ]
  },
  {
   "cell_type": "code",
   "execution_count": 6,
   "metadata": {},
   "outputs": [],
   "source": [
    "# Unzip 2023_CORE.zip\n",
    "with ZipFile('./xml/2023_CORE.zip', 'r') as f:\n",
    "    f.extractall('./xml/2023_CORE')"
   ]
  },
  {
   "cell_type": "code",
   "execution_count": 3,
   "metadata": {},
   "outputs": [],
   "source": [
    "# S3 setup\n",
    "s3c = boto3.client('s3', region_name = 'us-east-1')\n",
    "s3r = boto3.resource('s3', region_name = 'us-east-1')\n",
    "bucket = s3c.create_bucket(Bucket = 'wos-bucket')"
   ]
  },
  {
   "cell_type": "code",
   "execution_count": 14,
   "metadata": {},
   "outputs": [],
   "source": [
    "# Test write-and-delete workflow\n",
    "file = 'test.txt'\n",
    "f = open(file, 'w')\n",
    "f.write('Testing')\n",
    "f = open(file, 'rb')\n",
    "s3r.Bucket('wos-bucket').put_object(\n",
    "          Key = 'test', # File name\n",
    "          Body = f) # File\n",
    "os.remove(file)"
   ]
  },
  {
   "cell_type": "code",
   "execution_count": 28,
   "metadata": {},
   "outputs": [],
   "source": [
    "# Write XML files to S3\n",
    "# Ref: https://bito.ai/resources/unzip-gz-file-python-python-explained/\n",
    "files = ['./xml/2023_CORE/WR_2023_20240112181857_CORE_0001.xml.gz',\n",
    "         './xml/2023_CORE/WR_2023_20240112181857_CORE_0002.xml.gz', \n",
    "         './xml/2023_CORE/WR_2023_20240112181857_CORE_0003.xml.gz']\n",
    "\n",
    "for file in files:\n",
    "    xml = file[16:-3]\n",
    "    with gzip.open(file, 'rb') as zipped:\n",
    "       with open(xml, 'wb') as unzipped:\n",
    "         shutil.copyfileobj(zipped, unzipped)\n",
    "    body = open(xml, 'rb')\n",
    "    s3r.Bucket('wos-bucket').put_object(\n",
    "          Key = xml, # File name\n",
    "          Body = body) # File\n",
    "    # Delete files to make space\n",
    "    os.remove(file)\n",
    "    os.remove(xml)"
   ]
  }
 ],
 "metadata": {
  "language_info": {
   "name": "python"
  }
 },
 "nbformat": 4,
 "nbformat_minor": 2
}
