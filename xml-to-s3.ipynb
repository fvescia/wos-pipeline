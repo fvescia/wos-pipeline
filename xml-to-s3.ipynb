{
 "cells": [
  {
   "cell_type": "code",
   "execution_count": 1,
   "metadata": {},
   "outputs": [],
   "source": [
    "import boto3\n",
    "import gzip\n",
    "import re\n",
    "import requests\n",
    "import shutil\n",
    "import os\n",
    "from zipfile import ZipFile"
   ]
  },
  {
   "cell_type": "code",
   "execution_count": null,
   "metadata": {},
   "outputs": [],
   "source": [
    "# Test ZIP file download with unrestricted file\n",
    "# This works\n",
    "url = 'https://www.stats.govt.nz/assets/Uploads/Business-financial-data/Business-financial-data-December-2023-quarter/Download-data/business-financial-data-december-2023-quarter.zip'\n",
    "r = requests.get(url)\n",
    "with open('test.zip', 'wb') as f:\n",
    "    f.write(r.content)\n",
    "\n",
    "with ZipFile('test.zip', 'r') as f:\n",
    "    f.extractall()"
   ]
  },
  {
   "cell_type": "code",
   "execution_count": null,
   "metadata": {},
   "outputs": [],
   "source": [
    "# For now: Download restricted ZIP file manually\n",
    "# TODO: Figure out how to login and download restricted files programmatically "
   ]
  },
  {
   "cell_type": "code",
   "execution_count": 6,
   "metadata": {},
   "outputs": [],
   "source": [
    "# Unzip 2023_CORE.zip\n",
    "with ZipFile('./xml/2023_CORE.zip', 'r') as f:\n",
    "    f.extractall('./xml/2023_CORE')"
   ]
  },
  {
   "cell_type": "code",
   "execution_count": 7,
   "metadata": {},
   "outputs": [],
   "source": [
    "files = ['WR_2023_20240112181857_CORE_0002.xml.gz'] #, 'WR_2023_20240112181857_CORE_0002.xml.gz']\n",
    "s3r = boto3.resource('s3')"
   ]
  },
  {
   "cell_type": "code",
   "execution_count": 14,
   "metadata": {},
   "outputs": [],
   "source": [
    "# Toy write-and-delete workflow\n",
    "file = 'test.txt'\n",
    "f = open(file, 'w')\n",
    "f.write('Testing')\n",
    "f = open(file, 'rb')\n",
    "s3r.Bucket('wos-bucket').put_object(\n",
    "          Key = 'test', # File name\n",
    "          Body = f) # File\n",
    "os.remove(file)"
   ]
  },
  {
   "cell_type": "code",
   "execution_count": 3,
   "metadata": {},
   "outputs": [
    {
     "ename": "FileNotFoundError",
     "evalue": "[Errno 2] No such file or directory: '~/.TrashWR_2023_20240112181857_CORE_0001.xml.gz'",
     "output_type": "error",
     "traceback": [
      "\u001b[0;31m---------------------------------------------------------------------------\u001b[0m",
      "\u001b[0;31mFileNotFoundError\u001b[0m                         Traceback (most recent call last)",
      "Cell \u001b[0;32mIn[3], line 14\u001b[0m\n\u001b[1;32m     12\u001b[0m os\u001b[38;5;241m.\u001b[39mremove(gz)\n\u001b[1;32m     13\u001b[0m os\u001b[38;5;241m.\u001b[39mremove(xml)\n\u001b[0;32m---> 14\u001b[0m \u001b[43mos\u001b[49m\u001b[38;5;241;43m.\u001b[39;49m\u001b[43mremove\u001b[49m\u001b[43m(\u001b[49m\u001b[38;5;124;43m'\u001b[39;49m\u001b[38;5;124;43m~/.Trash\u001b[39;49m\u001b[38;5;124;43m'\u001b[39;49m\u001b[43m \u001b[49m\u001b[38;5;241;43m+\u001b[39;49m\u001b[43m \u001b[49m\u001b[43mfile\u001b[49m\u001b[43m)\u001b[49m\n\u001b[1;32m     15\u001b[0m os\u001b[38;5;241m.\u001b[39mremove(\u001b[38;5;124m'\u001b[39m\u001b[38;5;124m~/.Trash\u001b[39m\u001b[38;5;124m'\u001b[39m \u001b[38;5;241m+\u001b[39m file[:\u001b[38;5;241m-\u001b[39m\u001b[38;5;241m3\u001b[39m])\n",
      "\u001b[0;31mFileNotFoundError\u001b[0m: [Errno 2] No such file or directory: '~/.TrashWR_2023_20240112181857_CORE_0001.xml.gz'"
     ]
    }
   ],
   "source": [
    "for file in files:\n",
    "    gz = './xml/2023_CORE/' + file\n",
    "    xml = './xml/2023_CORE/' + file[:-3]\n",
    "    with gzip.open(gz, 'rb') as zipped:\n",
    "       with open(xml, 'wb') as unzipped:\n",
    "         shutil.copyfileobj(zipped, unzipped)\n",
    "    body = open(xml[6:], 'rb')\n",
    "    s3r.Bucket('wos-bucket').put_object(\n",
    "          Key = xml, # File name\n",
    "          Body = body) # File\n",
    "    # Delete files to make space\n",
    "    os.remove(gz)\n",
    "    os.remove(xml)\n",
    "    "
   ]
  },
  {
   "cell_type": "code",
   "execution_count": 27,
   "metadata": {},
   "outputs": [
    {
     "ename": "OSError",
     "evalue": "[Errno 28] No space left on device",
     "output_type": "error",
     "traceback": [
      "\u001b[0;31m---------------------------------------------------------------------------\u001b[0m",
      "\u001b[0;31mOSError\u001b[0m                                   Traceback (most recent call last)",
      "Cell \u001b[0;32mIn[27], line 8\u001b[0m\n\u001b[1;32m      6\u001b[0m \u001b[38;5;28;01mwith\u001b[39;00m gzip\u001b[38;5;241m.\u001b[39mopen(\u001b[38;5;124m'\u001b[39m\u001b[38;5;124m./xml/2023_CORE/\u001b[39m\u001b[38;5;124m'\u001b[39m \u001b[38;5;241m+\u001b[39m file, \u001b[38;5;124m'\u001b[39m\u001b[38;5;124mrb\u001b[39m\u001b[38;5;124m'\u001b[39m) \u001b[38;5;28;01mas\u001b[39;00m f_in:\n\u001b[1;32m      7\u001b[0m   \u001b[38;5;28;01mwith\u001b[39;00m \u001b[38;5;28mopen\u001b[39m(\u001b[38;5;124m'\u001b[39m\u001b[38;5;124m./xml/2023_CORE/\u001b[39m\u001b[38;5;124m'\u001b[39m \u001b[38;5;241m+\u001b[39m file[:\u001b[38;5;241m-\u001b[39m\u001b[38;5;241m3\u001b[39m], \u001b[38;5;124m'\u001b[39m\u001b[38;5;124mwb\u001b[39m\u001b[38;5;124m'\u001b[39m) \u001b[38;5;28;01mas\u001b[39;00m f_out:\n\u001b[0;32m----> 8\u001b[0m     \u001b[43mshutil\u001b[49m\u001b[38;5;241;43m.\u001b[39;49m\u001b[43mcopyfileobj\u001b[49m\u001b[43m(\u001b[49m\u001b[43mf_in\u001b[49m\u001b[43m,\u001b[49m\u001b[43m \u001b[49m\u001b[43mf_out\u001b[49m\u001b[43m)\u001b[49m\n",
      "File \u001b[0;32m~/anaconda3/envs/hpc/lib/python3.9/shutil.py:208\u001b[0m, in \u001b[0;36mcopyfileobj\u001b[0;34m(fsrc, fdst, length)\u001b[0m\n\u001b[1;32m    206\u001b[0m \u001b[38;5;28;01mif\u001b[39;00m \u001b[38;5;129;01mnot\u001b[39;00m buf:\n\u001b[1;32m    207\u001b[0m     \u001b[38;5;28;01mbreak\u001b[39;00m\n\u001b[0;32m--> 208\u001b[0m \u001b[43mfdst_write\u001b[49m\u001b[43m(\u001b[49m\u001b[43mbuf\u001b[49m\u001b[43m)\u001b[49m\n",
      "\u001b[0;31mOSError\u001b[0m: [Errno 28] No space left on device"
     ]
    }
   ],
   "source": [
    "# Unzip .gz files in 2023_CORE\n",
    "# Adapted from https://bito.ai/resources/unzip-gz-file-python-python-explained/\n",
    "\n",
    "for file in os.listdir('./xml/2023_CORE'):\n",
    "  if file.endswith('.gz'): \n",
    "     with gzip.open('./xml/2023_CORE/' + file, 'rb') as f_in:\n",
    "       with open('./xml/2023_CORE/' + file[:-3], 'wb') as f_out:\n",
    "         shutil.copyfileobj(f_in, f_out)\n",
    "         xml = open(f_out)"
   ]
  },
  {
   "cell_type": "code",
   "execution_count": 3,
   "metadata": {},
   "outputs": [],
   "source": [
    "# Create S3 bucket\n",
    "s3c = boto3.client('s3', region_name = 'us-east-1')\n",
    "bucket = s3c.create_bucket(Bucket = 'wos-bucket')"
   ]
  },
  {
   "cell_type": "code",
   "execution_count": 5,
   "metadata": {},
   "outputs": [
    {
     "data": {
      "text/plain": [
       "s3.Object(bucket_name='wos-bucket', key='xml/2023_CORE/WR_2023_20240112181857_CORE_0001.xml.gz')"
      ]
     },
     "execution_count": 5,
     "metadata": {},
     "output_type": "execute_result"
    }
   ],
   "source": [
    "# For now: Write XML to S3\n",
    "s3r = boto3.resource('s3')\n",
    "s3r.Bucket('wos-bucket').put_object(\n",
    "                Key = 'xml/2023_CORE/WR_2023_20240112181857_CORE_0001.xml.gz', # File name\n",
    "                Body = xml) # XML file"
   ]
  }
 ],
 "metadata": {
  "language_info": {
   "name": "python"
  }
 },
 "nbformat": 4,
 "nbformat_minor": 2
}
