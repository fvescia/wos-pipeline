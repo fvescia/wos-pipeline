{
 "cells": [
  {
   "cell_type": "code",
   "execution_count": null,
   "metadata": {},
   "outputs": [],
   "source": [
    "!pip install xmlschema==1.0.18\n",
    "!pip install pyarrow==3.0.0"
   ]
  },
  {
   "cell_type": "code",
   "execution_count": null,
   "metadata": {},
   "outputs": [],
   "source": [
    "import boto3\n",
    "import shutil\n",
    "import xmlschema\n",
    "from concurrent.futures import ThreadPoolExecutor "
   ]
  },
  {
   "cell_type": "code",
   "execution_count": null,
   "metadata": {},
   "outputs": [],
   "source": [
    "s3 = boto3.client('s3')\n",
    "s3.download_file('wos-bucket', 'xml_to_parquet.py', 'xml_to_parquet.py')\n",
    "s3.download_file('wos-bucket', 'convert_xml_to_parquet.py', 'convert_xml_to_parquet.py')\n",
    "s3.download_file('wos-bucket', 'WR_2023_20240112181857_CORE_0001.xml', 'WR_2023_20240112181857_CORE_0001.xml')\n",
    "s3.download_file('wos-bucket', 'WR_2023_20240112181857_CORE_0002.xml', 'WR_2023_20240112181857_CORE_0002.xml')\n",
    "s3.download_file('wos-bucket', 'WR_2023_20240112181857_CORE_0003.xml', 'WR_2023_20240112181857_CORE_0003.xml')"
   ]
  },
  {
   "cell_type": "code",
   "execution_count": null,
   "metadata": {},
   "outputs": [],
   "source": [
    "schemas = ['item_dii.rawxml.xsd',\n",
    " 'item_cabi.rawxml.xsd',\n",
    " 'item_ccc.rawxml.xsd',\n",
    " 'BIOSIS_common.rawxml.xsd',\n",
    " 'item_bp.rawxml.xsd',\n",
    " 'CHANGELOG',\n",
    " 'item_bci.rawxml.xsd',\n",
    " 'summary.rawxml.xsd',\n",
    " 'fullrecord_metadata.rawxml.xsd',\n",
    " 'item_medline.rawxml.xsd',\n",
    " 'item_ba.rawxml.xsd',\n",
    " 'item_wos.rawxml.xsd',\n",
    " 'common_types.rawxml.xsd',\n",
    " 'item_zr.rawxml.xsd',\n",
    " 'clarivate.com.schema.wok5.30.rawxml.xsd',\n",
    " 'EWUID.rawxml.xsd',\n",
    " 'item_fsta.rawxml.xsd',\n",
    " 'item_rsci.rawxml.xsd',\n",
    " 'item_drci.rawxml.xsd',\n",
    " 'item_cscd.rawxml.xsd',\n",
    " 'item_inspec.rawxml.xsd',\n",
    " 'item_scielo.rawxml.xsd']\n",
    "\n",
    "for xsd in schemas:\n",
    "    s3.download_file('wos-bucket', xsd, xsd)"
   ]
  },
  {
   "cell_type": "code",
   "execution_count": null,
   "metadata": {},
   "outputs": [],
   "source": [
    "# Test xml_to_parquet\n",
    "s3.download_file('wos-bucket', 'PurchaseOrder.xml', 'PurchaseOrder.xml')\n",
    "s3.download_file('wos-bucket', 'PurchaseOrder.xsd', 'PurchaseOrder.xsd')\n",
    "!python xml_to_parquet.py -x PurchaseOrder.xsd PurchaseOrder.xml"
   ]
  },
  {
   "cell_type": "code",
   "execution_count": 65,
   "metadata": {},
   "outputs": [],
   "source": [
    "# Duplicate test Parquet file to demo parallelism\n",
    "shutil.copyfile('PurchaseOrder.xml.parquet', 'p2.parquet')\n",
    "shutil.copyfile('PurchaseOrder.xml.parquet', 'p3.parquet')\n",
    "\n",
    "par_files = ['PurchaseOrder.xml.parquet', 'p2.parquet', 'p3.parquet']\n",
    "\n",
    "# Define write function\n",
    "def to_s3(file):\n",
    "    body = open(file, 'rb')\n",
    "    s3r.Bucket('wos-bucket').put_object(\n",
    "        Key = file,\n",
    "        Body = body)\n",
    "    \n",
    "# Write test Parquet files to S3 in parallel\n",
    "with ThreadPoolExecutor(max_workers = 3) as executor:\n",
    "    results = executor.map(to_s3, par_files)"
   ]
  },
  {
   "cell_type": "code",
   "execution_count": null,
   "metadata": {},
   "outputs": [],
   "source": [
    "# Module won't run with WoS XML\n",
    "# I suspect it's a schema issue; the test example uses a single xsd file,\n",
    "# while clarivate.com.schema.wok5.30.rawxml.xsd references several other xsd files\n",
    "!python xml_to_parquet.py -x clarivate.com.schema.wok5.30.rawxml.xsd WR_2023_20240112181857_CORE_0001.xml -l out.txt -v"
   ]
  },
  {
   "cell_type": "code",
   "execution_count": null,
   "metadata": {},
   "outputs": [],
   "source": [
    "# This code should convert the XML files to Parquet files in parallel\n",
    "# once the schema is correctly specified\n",
    "schema = 'TBD'\n",
    "!python xml_to_parquet.py -m 3 -x schema *.xml"
   ]
  },
  {
   "cell_type": "code",
   "execution_count": 64,
   "metadata": {},
   "outputs": [
    {
     "ename": "IndentationError",
     "evalue": "unexpected indent (<ipython-input-64-3bc0a714a94c>, line 8)",
     "output_type": "error",
     "traceback": [
      "\u001b[0;36m  File \u001b[0;32m\"<ipython-input-64-3bc0a714a94c>\"\u001b[0;36m, line \u001b[0;32m8\u001b[0m\n\u001b[0;31m    s3r.Bucket('wos-bucket').put_object(\u001b[0m\n\u001b[0m    ^\u001b[0m\n\u001b[0;31mIndentationError\u001b[0m\u001b[0;31m:\u001b[0m unexpected indent\n"
     ]
    }
   ],
   "source": [
    "# This code would then write the Parquet files to S3 in parallel\n",
    "par_files = ['WR_2023_20240112181857_CORE_0001.xml',\n",
    "             'WR_2023_20240112181857_CORE_0002.xml',\n",
    "             'WR_2023_20240112181857_CORE_0003.xml']\n",
    "\n",
    "def to_s3(file):\n",
    "    body = open(file, 'rb')\n",
    "    s3r.Bucket('wos-bucket').put_object(\n",
    "        Key = file,\n",
    "        Body = body)\n",
    "        \n",
    "with ThreadPoolExecutor(max_workers = 3) as executor:\n",
    "    results = executor.map(to_s3, par_files)"
   ]
  },
  {
   "cell_type": "code",
   "execution_count": 63,
   "metadata": {},
   "outputs": [
    {
     "name": "stdout",
     "output_type": "stream",
     "text": [
      "BIOSIS_common.rawxml.xsd                 item_scielo.rawxml.xsd\r\n",
      "CHANGELOG                                item_wos.rawxml.xsd\r\n",
      "clarivate.com.schema.wok5.30.rawxml.xsd  item_zr.rawxml.xsd\r\n",
      "common_types.rawxml.xsd                  jupyterhub_cookie_secret\r\n",
      "convert_xml_to_parquet.py                jupyterhub-proxy.pid\r\n",
      "EWUID.rawxml.xsd                         jupyterhub.sqlite\r\n",
      "fullrecord_metadata.rawxml.xsd           p2.parquet\r\n",
      "item_ba.rawxml.xsd                       p3.parquet\r\n",
      "item_bci.rawxml.xsd                      PurchaseOrder.xml\r\n",
      "item_bp.rawxml.xsd                       PurchaseOrder.xml.parquet\r\n",
      "item_cabi.rawxml.xsd                     PurchaseOrder.xsd\r\n",
      "item_ccc.rawxml.xsd                      \u001b[0m\u001b[01;34m__pycache__\u001b[0m/\r\n",
      "item_cscd.rawxml.xsd                     schema.xsd\r\n",
      "item_dii.rawxml.xsd                      summary.rawxml.xsd\r\n",
      "item_drci.rawxml.xsd                     WR_2023_20240112181857_CORE_0001.xml\r\n",
      "item_fsta.rawxml.xsd                     WR_2023_20240112181857_CORE_0002.xml\r\n",
      "item_inspec.rawxml.xsd                   WR_2023_20240112181857_CORE_0003.xml\r\n",
      "item_medline.rawxml.xsd                  xml_to_parquet.py\r\n",
      "item_rsci.rawxml.xsd\r\n"
     ]
    }
   ],
   "source": [
    "ls"
   ]
  },
  {
   "cell_type": "code",
   "execution_count": null,
   "metadata": {},
   "outputs": [],
   "source": []
  }
 ],
 "metadata": {
  "kernelspec": {
   "display_name": "Python 3",
   "language": "python",
   "name": "python3"
  },
  "language_info": {
   "codemirror_mode": {
    "name": "ipython",
    "version": 3
   },
   "file_extension": ".py",
   "mimetype": "text/x-python",
   "name": "python",
   "nbconvert_exporter": "python",
   "pygments_lexer": "ipython3",
   "version": "3.7.6"
  }
 },
 "nbformat": 4,
 "nbformat_minor": 4
}
