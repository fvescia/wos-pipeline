{
 "cells": [
  {
   "cell_type": "code",
   "execution_count": 2,
   "metadata": {},
   "outputs": [
    {
     "name": "stdout",
     "output_type": "stream",
     "text": [
      "Collecting xmlschema==1.0.18\n",
      "  Downloading xmlschema-1.0.18-py2.py3-none-any.whl (358 kB)\n",
      "\u001b[K     |████████████████████████████████| 358 kB 28.0 MB/s eta 0:00:01\n",
      "\u001b[?25hCollecting elementpath~=1.3.0\n",
      "  Downloading elementpath-1.3.3-py2.py3-none-any.whl (68 kB)\n",
      "\u001b[K     |████████████████████████████████| 68 kB 16.3 MB/s eta 0:00:01\n",
      "\u001b[?25hInstalling collected packages: elementpath, xmlschema\n",
      "Successfully installed elementpath-1.3.3 xmlschema-1.0.18\n",
      "\u001b[33mWARNING: You are using pip version 20.2.4; however, version 24.0 is available.\n",
      "You should consider upgrading via the '/opt/conda/bin/python3.7 -m pip install --upgrade pip' command.\u001b[0m\n",
      "Collecting pyarrow==3.0.0\n",
      "  Downloading pyarrow-3.0.0-cp37-cp37m-manylinux2014_x86_64.whl (20.7 MB)\n",
      "\u001b[K     |████████████████████████████████| 20.7 MB 23.9 MB/s eta 0:00:01\n",
      "\u001b[?25hRequirement already satisfied: numpy>=1.16.6 in /opt/conda/lib/python3.7/site-packages (from pyarrow==3.0.0) (1.19.2)\n",
      "Installing collected packages: pyarrow\n",
      "Successfully installed pyarrow-3.0.0\n",
      "\u001b[33mWARNING: You are using pip version 20.2.4; however, version 24.0 is available.\n",
      "You should consider upgrading via the '/opt/conda/bin/python3.7 -m pip install --upgrade pip' command.\u001b[0m\n"
     ]
    }
   ],
   "source": [
    "!pip install xmlschema==1.0.18\n",
    "!pip install pyarrow==3.0.0"
   ]
  },
  {
   "cell_type": "code",
   "execution_count": 3,
   "metadata": {},
   "outputs": [],
   "source": [
    "import boto3\n",
    "import xmlschema\n",
    "from concurrent.futures import ThreadPoolExecutor "
   ]
  },
  {
   "cell_type": "code",
   "execution_count": 5,
   "metadata": {},
   "outputs": [],
   "source": [
    "s3 = boto3.client('s3')\n",
    "s3.download_file('wos-bucket', 'xml_to_parquet.py', 'xml_to_parquet.py')\n",
    "s3.download_file('wos-bucket', 'convert_xml_to_parquet.py', 'convert_xml_to_parquet.py')\n",
    "s3.download_file('wos-bucket', 'WR_2023_20240112181857_CORE_0001.xml', 'WR_2023_20240112181857_CORE_0001.xml')\n",
    "s3.download_file('wos-bucket', 'WR_2023_20240112181857_CORE_0002.xml', 'WR_2023_20240112181857_CORE_0002.xml')\n",
    "s3.download_file('wos-bucket', 'WR_2023_20240112181857_CORE_0003.xml', 'WR_2023_20240112181857_CORE_0003.xml')"
   ]
  },
  {
   "cell_type": "code",
   "execution_count": 7,
   "metadata": {},
   "outputs": [],
   "source": [
    "schemas = ['item_dii.rawxml.xsd',\n",
    " 'item_cabi.rawxml.xsd',\n",
    " 'item_ccc.rawxml.xsd',\n",
    " 'BIOSIS_common.rawxml.xsd',\n",
    " 'item_bp.rawxml.xsd',\n",
    " 'CHANGELOG',\n",
    " 'item_bci.rawxml.xsd',\n",
    " 'summary.rawxml.xsd',\n",
    " 'fullrecord_metadata.rawxml.xsd',\n",
    " 'item_medline.rawxml.xsd',\n",
    " 'item_ba.rawxml.xsd',\n",
    " 'item_wos.rawxml.xsd',\n",
    " 'common_types.rawxml.xsd',\n",
    " 'item_zr.rawxml.xsd',\n",
    " 'clarivate.com.schema.wok5.30.rawxml.xsd',\n",
    " 'EWUID.rawxml.xsd',\n",
    " 'item_fsta.rawxml.xsd',\n",
    " 'item_rsci.rawxml.xsd',\n",
    " 'item_drci.rawxml.xsd',\n",
    " 'item_cscd.rawxml.xsd',\n",
    " 'item_inspec.rawxml.xsd',\n",
    " 'item_scielo.rawxml.xsd']\n",
    "\n",
    "for xsd in schemas:\n",
    "    s3.download_file('wos-bucket', xsd, xsd)"
   ]
  },
  {
   "cell_type": "code",
   "execution_count": 22,
   "metadata": {},
   "outputs": [
    {
     "name": "stdout",
     "output_type": "stream",
     "text": [
      "INFO - 2024-05-24 15:07:49 - Parsing XML Files..\n",
      "INFO - 2024-05-24 15:07:49 - Processing 1 files\n",
      "DEBUG - 2024-05-24 15:07:49 - Generating schema from PurchaseOrder.xsd\n",
      "DEBUG - 2024-05-24 15:07:49 - Parsing PurchaseOrder.xml\n",
      "DEBUG - 2024-05-24 15:07:49 - Saving to: /home/jovyan/PurchaseOrder.xml.parquet\n",
      "DEBUG - 2024-05-24 15:07:49 - Completed PurchaseOrder.xml\n"
     ]
    }
   ],
   "source": [
    "# Test xml_to_parquet\n",
    "s3.download_file('wos-bucket', 'PurchaseOrder.xml', 'PurchaseOrder.xml')\n",
    "s3.download_file('wos-bucket', 'PurchaseOrder.xsd', 'PurchaseOrder.xsd')\n",
    "!python xml_to_parquet.py -x PurchaseOrder.xsd PurchaseOrder.xml"
   ]
  },
  {
   "cell_type": "code",
   "execution_count": 41,
   "metadata": {},
   "outputs": [
    {
     "name": "stdout",
     "output_type": "stream",
     "text": [
      "INFO - 2024-05-24 16:19:08 - Parsing XML Files..\n",
      "INFO - 2024-05-24 16:19:08 - Processing 1 files\n",
      "DEBUG - 2024-05-24 16:19:08 - Generating schema from clarivate.com.schema.wok5.30.rawxml.xsd\n",
      "DEBUG - 2024-05-24 16:19:10 - Parsing WR_2023_20240112181857_CORE_0001.xml\n"
     ]
    }
   ],
   "source": [
    "# Module won't run with WoS XML\n",
    "# I suspect it's a schema issue; the test example uses a single xsd file,\n",
    "# while clarivate.com.schema.wok5.30.rawxml.xsd references several\n",
    "# supplementary xsd files\n",
    "!python xml_to_parquet.py -x clarivate.com.schema.wok5.30.rawxml.xsd WR_2023_20240112181857_CORE_0001.xml -l out.txt -v"
   ]
  },
  {
   "cell_type": "code",
   "execution_count": null,
   "metadata": {},
   "outputs": [],
   "source": [
    "# This is the code should convert the XML files to Parquet files in parallel\n",
    "# once the schema is correctly specified\n",
    "schema = 'TBD'\n",
    "!python xml_to_parquet.py -m 3 -x schema *.xml"
   ]
  },
  {
   "cell_type": "code",
   "execution_count": null,
   "metadata": {},
   "outputs": [],
   "source": [
    "# This code should write the Parquet files to S3 in parallel\n",
    "s3r = boto3.resource('s3', region_name = 'us-east-1')\n",
    "\n",
    "par_files = []\n",
    "\n",
    "def to_s3(file):\n",
    "    body = open(file, 'rb')\n",
    "        s3r.Bucket('wos-bucket').put_object(\n",
    "          Key = file,\n",
    "          Body = body)\n",
    "        \n",
    "with ThreadPoolExecutor(max_workers = 3) as executor:\n",
    "    results = executor.map(to_s3, par_files)\n",
    "\n",
    "    "
   ]
  }
 ],
 "metadata": {
  "kernelspec": {
   "display_name": "Python 3",
   "language": "python",
   "name": "python3"
  },
  "language_info": {
   "codemirror_mode": {
    "name": "ipython",
    "version": 3
   },
   "file_extension": ".py",
   "mimetype": "text/x-python",
   "name": "python",
   "nbconvert_exporter": "python",
   "pygments_lexer": "ipython3",
   "version": "3.7.6"
  }
 },
 "nbformat": 4,
 "nbformat_minor": 4
}
