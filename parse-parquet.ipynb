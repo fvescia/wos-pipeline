{
 "cells": [
  {
   "cell_type": "code",
   "execution_count": null,
   "metadata": {},
   "outputs": [],
   "source": [
    "%%configure -f\n",
    "{\n",
    "    \"conf\": {\n",
    "        \"spark.pyspark.python\": \"python3\",\n",
    "        \"spark.pyspark.virtualenv.enabled\": \"true\",\n",
    "        \"spark.pyspark.virtualenv.type\":\"native\",\n",
    "        \"spark.pyspark.virtualenv.bin.path\":\"/usr/bin/virtualenv\"\n",
    "    }\n",
    "}"
   ]
  },
  {
   "cell_type": "code",
   "execution_count": null,
   "metadata": {},
   "outputs": [],
   "source": [
    "sc.install_pypi_package('boto3', 'https://pypi.org/simple')\n",
    "sc.install_pypi_package('matplotlib==3.2.1', 'https://pypi.org/simple')\n",
    "sc.install_pypi_package('pandas==1.0.5', 'https://pypi.org/simple')\n",
    "sc.install_pypi_package('scipy==1.4.1', 'https://pypi.org/simple')\n",
    "sc.install_pypi_package('seaborn==0.11.1', 'https://pypi.org/simple')"
   ]
  },
  {
   "cell_type": "code",
   "execution_count": 35,
   "metadata": {},
   "outputs": [
    {
     "data": {
      "application/vnd.jupyter.widget-view+json": {
       "model_id": "",
       "version_major": 2,
       "version_minor": 0
      },
      "text/plain": [
       "FloatProgress(value=0.0, bar_style='info', description='Progress:', layout=Layout(height='25px', width='50%'),…"
      ]
     },
     "metadata": {},
     "output_type": "display_data"
    }
   ],
   "source": [
    "import boto3\n",
    "import matplotlib.pyplot as plt\n",
    "import pyspark.sql.functions as f\n",
    "import seaborn as sns\n",
    "from concurrent.futures import ThreadPoolExecutor \n",
    "from functools import reduce\n",
    "from pyspark.sql import DataFrame"
   ]
  },
  {
   "cell_type": "code",
   "execution_count": 8,
   "metadata": {},
   "outputs": [
    {
     "data": {
      "application/vnd.jupyter.widget-view+json": {
       "model_id": "",
       "version_major": 2,
       "version_minor": 0
      },
      "text/plain": [
       "FloatProgress(value=0.0, bar_style='info', description='Progress:', layout=Layout(height='25px', width='50%'),…"
      ]
     },
     "metadata": {},
     "output_type": "display_data"
    },
    {
     "name": "stdout",
     "output_type": "stream",
     "text": [
      "root\n",
      " |-- purchaseOrder: struct (nullable = true)\n",
      " |    |-- purchaseOrder@orderDate: timestamp (nullable = true)\n",
      " |    |-- shipTo: struct (nullable = true)\n",
      " |    |    |-- shipTo@country: string (nullable = true)\n",
      " |    |    |-- name: string (nullable = true)\n",
      " |    |    |-- street: string (nullable = true)\n",
      " |    |    |-- city: string (nullable = true)\n",
      " |    |    |-- state: string (nullable = true)\n",
      " |    |    |-- zip: double (nullable = true)\n",
      " |    |-- billTo: struct (nullable = true)\n",
      " |    |    |-- billTo@country: string (nullable = true)\n",
      " |    |    |-- name: string (nullable = true)\n",
      " |    |    |-- street: string (nullable = true)\n",
      " |    |    |-- city: string (nullable = true)\n",
      " |    |    |-- state: string (nullable = true)\n",
      " |    |    |-- zip: double (nullable = true)\n",
      " |    |-- comment: string (nullable = true)\n",
      " |    |-- items: struct (nullable = true)\n",
      " |    |    |-- item: array (nullable = true)\n",
      " |    |    |    |-- element: struct (containsNull = true)\n",
      " |    |    |    |    |-- item@partNum: string (nullable = true)\n",
      " |    |    |    |    |-- productName: string (nullable = true)\n",
      " |    |    |    |    |-- quantity: long (nullable = true)\n",
      " |    |    |    |    |-- USPrice: double (nullable = true)\n",
      " |    |    |    |    |-- comment: string (nullable = true)\n",
      " |    |    |    |    |-- shipDate: timestamp (nullable = true)"
     ]
    }
   ],
   "source": [
    "data = spark.read.parquet('s3://wos-bucket/PurchaseOrder.xml.parquet')\n",
    "data.printSchema()"
   ]
  },
  {
   "cell_type": "code",
   "execution_count": 9,
   "metadata": {},
   "outputs": [
    {
     "data": {
      "application/vnd.jupyter.widget-view+json": {
       "model_id": "",
       "version_major": 2,
       "version_minor": 0
      },
      "text/plain": [
       "FloatProgress(value=0.0, bar_style='info', description='Progress:', layout=Layout(height='25px', width='50%'),…"
      ]
     },
     "metadata": {},
     "output_type": "display_data"
    }
   ],
   "source": [
    "par_files = ['s3://wos-bucket/PurchaseOrder.xml.parquet',\n",
    "             's3://wos-bucket/p2.parquet',\n",
    "             's3://wos-bucket/p3.parquet']\n",
    "\n",
    "# Define read function\n",
    "def from_s3(file):\n",
    "    return spark.read.parquet(file)\n",
    "    \n",
    "# Read test Parquet files from S3 in parallel\n",
    "with ThreadPoolExecutor(max_workers = 3) as executor:\n",
    "    results = executor.map(from_s3, par_files)\n",
    "    \n",
    "df1, df2, df3 = results\n",
    "\n",
    "# Combine files into a single dataframe\n",
    "# From https://stackoverflow.com/questions/37612622/spark-unionall-multiple-dataframes\n",
    "dfs = [df1, df2, df3]\n",
    "new_data = reduce(DataFrame.unionAll, dfs)"
   ]
  },
  {
   "cell_type": "code",
   "execution_count": 18,
   "metadata": {},
   "outputs": [
    {
     "data": {
      "application/vnd.jupyter.widget-view+json": {
       "model_id": "",
       "version_major": 2,
       "version_minor": 0
      },
      "text/plain": [
       "FloatProgress(value=0.0, bar_style='info', description='Progress:', layout=Layout(height='25px', width='50%'),…"
      ]
     },
     "metadata": {},
     "output_type": "display_data"
    },
    {
     "name": "stdout",
     "output_type": "stream",
     "text": [
      "root\n",
      " |-- age: long (nullable = true)\n",
      " |-- city: string (nullable = true)\n",
      " |-- friends: array (nullable = true)\n",
      " |    |-- element: struct (containsNull = true)\n",
      " |    |    |-- hobbies: array (nullable = true)\n",
      " |    |    |    |-- element: string (containsNull = true)\n",
      " |    |    |-- name: string (nullable = true)\n",
      " |-- id: long (nullable = true)\n",
      " |-- name: string (nullable = true)"
     ]
    }
   ],
   "source": [
    "# Load user data to demo analysis with nested dataframes\n",
    "json_df = spark.read.json('s3://wos-bucket/users_1k.json', multiLine=True,) \n",
    "json_df.write.parquet('./users_1k.parquet')\n",
    "df = spark.read.parquet('./users_1k.parquet')\n",
    "df.printSchema()"
   ]
  },
  {
   "cell_type": "code",
   "execution_count": 74,
   "metadata": {},
   "outputs": [
    {
     "data": {
      "application/vnd.jupyter.widget-view+json": {
       "model_id": "",
       "version_major": 2,
       "version_minor": 0
      },
      "text/plain": [
       "FloatProgress(value=0.0, bar_style='info', description='Progress:', layout=Layout(height='25px', width='50%'),…"
      ]
     },
     "metadata": {},
     "output_type": "display_data"
    }
   ],
   "source": [
    "# Plot user age distribution\n",
    "age = df. \\\n",
    "    withColumn(\n",
    "        'bracket', \n",
    "        f.expr('''\n",
    "            CASE \n",
    "            WHEN age < 20 THEN ' <20'\n",
    "            WHEN age BETWEEN 20 AND 39 THEN '20-39'\n",
    "            WHEN age BETWEEN 40 AND 59 THEN '40-59'\n",
    "            WHEN age BETWEEN 60 AND 79 THEN '60-79'\n",
    "            ELSE '80+'\n",
    "            END\n",
    "            '''))"
   ]
  },
  {
   "cell_type": "code",
   "execution_count": 75,
   "metadata": {},
   "outputs": [
    {
     "data": {
      "application/vnd.jupyter.widget-view+json": {
       "model_id": "",
       "version_major": 2,
       "version_minor": 0
      },
      "text/plain": [
       "FloatProgress(value=0.0, bar_style='info', description='Progress:', layout=Layout(height='25px', width='50%'),…"
      ]
     },
     "metadata": {},
     "output_type": "display_data"
    },
    {
     "name": "stdout",
     "output_type": "stream",
     "text": [
      "+---+-------------+--------------------+---+--------+-------+\n",
      "|age|         city|             friends| id|    name|bracket|\n",
      "+---+-------------+--------------------+---+--------+-------+\n",
      "| 78|       Austin|[[[Watching Sport...|  0|  Elijah|  60-79|\n",
      "| 97|       Boston|[[[Watching Sport...|  1|    Noah|    80+|\n",
      "| 48|    San Diego|[[[Reading, Volun...|  2|     Evy|  40-59|\n",
      "| 39|    St. Louis|[[[Watching Sport...|  3|  Oliver|  20-39|\n",
      "| 95|    St. Louis|[[[Movie Watching...|  4| Michael|    80+|\n",
      "| 19|     Portland|[[[Painting, Tele...|  5| Michael|    <20|\n",
      "| 76|       Austin|[[[Genealogy, Coo...|  6|   Lucas|  60-79|\n",
      "| 25|  San Antonio|[[[Music, Golf], ...|  7|Michelle|  20-39|\n",
      "| 61|       Austin|[[[Bicycling, Ski...|  8|   Emily|  60-79|\n",
      "| 33|  New Orleans|[[[Traveling, Bic...|  9|    Liam|  20-39|\n",
      "| 59|  New Orleans|[[[Video Games, F...| 10|    Levi|  40-59|\n",
      "| 82|     Portland|[[[Jewelry Making...| 11|   Lucas|    80+|\n",
      "| 82|   Charleston|[[[Eating Out], O...| 12|   Kevin|    80+|\n",
      "| 34|  San Antonio|[[[Yoga, Travelin...| 13|  Olivia|  20-39|\n",
      "| 49|  Los Angeles|[[[Yoga, Televisi...| 14|  Robert|  40-59|\n",
      "| 98|      Chicago|[[[Traveling, Gen...| 15|   Grace|    80+|\n",
      "| 78|  New Orleans|[[[Running, House...| 16| Michael|  60-79|\n",
      "| 19| Palm Springs|[[[Playing Cards,...| 17|   Mateo|    <20|\n",
      "| 38|      Chicago|[[[Tennis, Eating...| 18|    Levi|  20-39|\n",
      "| 49|New York City|[[[Writing, Playi...| 19|    Luke|  40-59|\n",
      "+---+-------------+--------------------+---+--------+-------+\n",
      "only showing top 20 rows"
     ]
    }
   ],
   "source": [
    "age.show()"
   ]
  },
  {
   "cell_type": "code",
   "execution_count": 76,
   "metadata": {},
   "outputs": [
    {
     "data": {
      "application/vnd.jupyter.widget-view+json": {
       "model_id": "",
       "version_major": 2,
       "version_minor": 0
      },
      "text/plain": [
       "FloatProgress(value=0.0, bar_style='info', description='Progress:', layout=Layout(height='25px', width='50%'),…"
      ]
     },
     "metadata": {},
     "output_type": "display_data"
    },
    {
     "name": "stdout",
     "output_type": "stream",
     "text": [
      "+-------+-----+\n",
      "|bracket|count|\n",
      "+-------+-----+\n",
      "|    <20|   26|\n",
      "|  20-39|  238|\n",
      "|  40-59|  234|\n",
      "|  60-79|  262|\n",
      "|    80+|  240|\n",
      "+-------+-----+"
     ]
    }
   ],
   "source": [
    "age = age.groupby('bracket') \\\n",
    "    .count() \\\n",
    "    .orderBy('bracket')\n",
    "age.show()"
   ]
  },
  {
   "cell_type": "code",
   "execution_count": 80,
   "metadata": {},
   "outputs": [
    {
     "data": {
      "application/vnd.jupyter.widget-view+json": {
       "model_id": "",
       "version_major": 2,
       "version_minor": 0
      },
      "text/plain": [
       "FloatProgress(value=0.0, bar_style='info', description='Progress:', layout=Layout(height='25px', width='50%'),…"
      ]
     },
     "metadata": {},
     "output_type": "display_data"
    },
    {
     "data": {
      "image/png": "[encoded data removed]",
      "text/plain": [
       "<IPython.core.display.Image object>"
      ]
     },
     "metadata": {},
     "output_type": "display_data"
    }
   ],
   "source": [
    "age_p = age.toPandas()\n",
    "\n",
    "plt.close()\n",
    "\n",
    "sns.barplot(x = 'bracket', y = 'count', data = age_p)\n",
    "plt.title('User Age Distribution')\n",
    "\n",
    "%matplot plt"
   ]
  },
  {
   "cell_type": "code",
   "execution_count": 109,
   "metadata": {},
   "outputs": [
    {
     "data": {
      "application/vnd.jupyter.widget-view+json": {
       "model_id": "",
       "version_major": 2,
       "version_minor": 0
      },
      "text/plain": [
       "FloatProgress(value=0.0, bar_style='info', description='Progress:', layout=Layout(height='25px', width='50%'),…"
      ]
     },
     "metadata": {},
     "output_type": "display_data"
    },
    {
     "name": "stdout",
     "output_type": "stream",
     "text": [
      "+--------------------+\n",
      "|                name|\n",
      "+--------------------+\n",
      "|  [Michelle, Robert]|\n",
      "|[Oliver, Olivia, ...|\n",
      "|[Joe, Joe, Oliver...|\n",
      "|[Mateo, Nora, Ava...|\n",
      "|      [Mateo, Chris]|\n",
      "|[Jack, Oliver, Ch...|\n",
      "|        [John, John]|\n",
      "|[Jack, Daniel, Ro...|\n",
      "|[Nora, Ava, Ameli...|\n",
      "| [Chloe, Evy, Grace]|\n",
      "|       [Noah, Sarah]|\n",
      "|   [Luke, Noah, Evy]|\n",
      "|   [Oliver, Michael]|\n",
      "|      [Daniel, Zoey]|\n",
      "|[Michelle, Daniel...|\n",
      "| [Joe, Mateo, Mateo]|\n",
      "|[Amelia, Michael,...|\n",
      "|[Emily, Sophie, C...|\n",
      "|[Emma, Emma, Dani...|\n",
      "|[Leo, Emma, Sarah...|\n",
      "+--------------------+\n",
      "only showing top 20 rows\n",
      "\n",
      "+---------+-----+\n",
      "|    names|count|\n",
      "+---------+-----+\n",
      "|  Michael|  134|\n",
      "|     Noah|  130|\n",
      "|    Emily|  129|\n",
      "| Victoria|  129|\n",
      "|    Sarah|  126|\n",
      "|     John|  126|\n",
      "|    Chloe|  126|\n",
      "|   Amelia|  126|\n",
      "| Michelle|  124|\n",
      "|      Joe|  121|\n",
      "|     Emma|  121|\n",
      "|    Chris|  120|\n",
      "|   Olivia|  120|\n",
      "|     Levi|  119|\n",
      "|    Grace|  116|\n",
      "|      Ava|  116|\n",
      "|     Nora|  116|\n",
      "|      Leo|  115|\n",
      "|   Camila|  115|\n",
      "|Charlotte|  115|\n",
      "+---------+-----+\n",
      "only showing top 20 rows"
     ]
    }
   ],
   "source": [
    "# ID distinct friend names\n",
    "friends = df.select(f.col('friends.name'))\n",
    "friends.show()\n",
    "df.withColumn('names', f.explode('friends.name')).select('names').groupBy('names').count().orderBy('count', ascending = False).show()"
   ]
  }
 ],
 "metadata": {
  "kernelspec": {
   "display_name": "PySpark",
   "language": "",
   "name": "pysparkkernel"
  },
  "language_info": {
   "codemirror_mode": {
    "name": "python",
    "version": 3
   },
   "mimetype": "text/x-python",
   "name": "pyspark",
   "pygments_lexer": "python3"
  }
 },
 "nbformat": 4,
 "nbformat_minor": 4
}
